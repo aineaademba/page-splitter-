{
 "cells": [
  {
   "cell_type": "code",
   "execution_count": 5,
   "id": "9113906d",
   "metadata": {},
   "outputs": [],
   "source": [
    "#Install packages\n",
    "#conda install PyPDF2"
   ]
  },
  {
   "cell_type": "code",
   "execution_count": 2,
   "id": "293ee9c4",
   "metadata": {},
   "outputs": [],
   "source": [
    "from PyPDF2 import PdfWriter, PdfReader\n",
    "\n",
    "inputpdf = PdfReader(open(\"allotment set one trial two 23112023.pdf\", \"rb\"))\n",
    "\n",
    "output = PdfWriter()\n",
    "\n",
    "# Iterate through the pages, taking the first two and skipping the third\n",
    "for i in range(0, len(inputpdf.pages), 3):  # Skip every third page\n",
    "    output.add_page(inputpdf.pages[i])\n",
    "    if i + 1 < len(inputpdf.pages):  # Ensure there is a next page\n",
    "        output.add_page(inputpdf.pages[i + 1])\n",
    "\n",
    "with open(\"modified-document23112023.pdf\", \"wb\") as outputStream:\n",
    "    output.write(outputStream)\n"
   ]
  },
  {
   "cell_type": "code",
   "execution_count": 3,
   "id": "82cd0629",
   "metadata": {},
   "outputs": [],
   "source": [
    "from PyPDF2 import PdfWriter, PdfReader\n",
    "\n",
    "inputpdf = PdfReader(open(\"modified-document23112023.pdf\", \"rb\"))\n",
    "\n",
    "for i in range(0, len(inputpdf.pages), 2):  # Split into two pages each\n",
    "    output = PdfWriter()\n",
    "    if i < len(inputpdf.pages):\n",
    "        output.add_page(inputpdf.pages[i])\n",
    "    if i + 1 < len(inputpdf.pages):\n",
    "        output.add_page(inputpdf.pages[i + 1])\n",
    "\n",
    "    with open(\"document-pages_%s_%s.pdf\" % (i, i+1), \"wb\") as outputStream:\n",
    "        output.write(outputStream)\n"
   ]
  },
  {
   "cell_type": "code",
   "execution_count": null,
   "id": "43b900d7",
   "metadata": {},
   "outputs": [],
   "source": []
  }
 ],
 "metadata": {
  "kernelspec": {
   "display_name": "Python 3 (ipykernel)",
   "language": "python",
   "name": "python3"
  },
  "language_info": {
   "codemirror_mode": {
    "name": "ipython",
    "version": 3
   },
   "file_extension": ".py",
   "mimetype": "text/x-python",
   "name": "python",
   "nbconvert_exporter": "python",
   "pygments_lexer": "ipython3",
   "version": "3.11.4"
  }
 },
 "nbformat": 4,
 "nbformat_minor": 5
}
