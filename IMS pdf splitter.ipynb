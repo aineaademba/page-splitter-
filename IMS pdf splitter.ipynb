{
 "cells": [
  {
   "cell_type": "code",
   "execution_count": 5,
   "id": "9113906d",
   "metadata": {},
   "outputs": [],
   "source": [
    "#Install packages\n",
    "#conda install PyPDF2"
   ]
  },
  {
   "cell_type": "code",
   "execution_count": 12,
   "id": "293ee9c4",
   "metadata": {},
   "outputs": [],
   "source": [
    "# The below code skips every other page\n",
    "from PyPDF2 import PdfWriter, PdfReader\n",
    "\n",
    "inputpdf = PdfReader(open(\"allotment set five.pdf\", \"rb\"))\n",
    "\n",
    "output = PdfWriter()\n",
    "\n",
    "for i in range(0, len(inputpdf.pages), 2):  # Skip every other page\n",
    "    output.add_page(inputpdf.pages[i])\n",
    "\n",
    "with open(\"modified-document5.pdf\", \"wb\") as outputStream:\n",
    "    output.write(outputStream)\n"
   ]
  },
  {
   "cell_type": "code",
   "execution_count": 13,
   "id": "82cd0629",
   "metadata": {},
   "outputs": [],
   "source": [
    "#This codes picks from above, separates into one document each\n",
    "from PyPDF2 import PdfWriter, PdfReader\n",
    "\n",
    "inputpdf = PdfReader(open(\"modified-document5.pdf\", \"rb\"))\n",
    "\n",
    "for i in range(len(inputpdf.pages)):\n",
    "    output = PdfWriter()\n",
    "    output.add_page(inputpdf.pages[i])\n",
    "    with open(\"document-page%s.pdf\" % i, \"wb\") as outputStream:\n",
    "        output.write(outputStream)"
   ]
  }
 ],
 "metadata": {
  "kernelspec": {
   "display_name": "Python 3 (ipykernel)",
   "language": "python",
   "name": "python3"
  },
  "language_info": {
   "codemirror_mode": {
    "name": "ipython",
    "version": 3
   },
   "file_extension": ".py",
   "mimetype": "text/x-python",
   "name": "python",
   "nbconvert_exporter": "python",
   "pygments_lexer": "ipython3",
   "version": "3.11.4"
  }
 },
 "nbformat": 4,
 "nbformat_minor": 5
}
